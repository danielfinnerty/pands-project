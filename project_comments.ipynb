{
 "cells": [
  {
   "cell_type": "markdown",
   "metadata": {},
   "source": [
    "# Programming and Scripting Project Comments"
   ]
  },
  {
   "cell_type": "markdown",
   "metadata": {},
   "source": [
    "## Project Tasks\n",
    "\n",
    "1. Research iris data set online and write a summary - See README file.\n",
    "2. Download iris data set to repository\n",
    "3. Write a program called analysis.py that:  \n",
    "    1. Outputs a summary of each variable to a single text file  \n",
    "    2. Saves a histogram of each variable to png file  \n",
    "    3. Outputs a scatter plot of each pair of variables  \n",
    "    4. Perform any other analysis"
   ]
  },
  {
   "cell_type": "markdown",
   "metadata": {},
   "source": [
    "### Task 2: Download Iris Data Set"
   ]
  },
  {
   "cell_type": "markdown",
   "metadata": {},
   "source": [
    "As provided by the project overview, the iris data set could be located at the below location. When downloaded, within the zipped folder were several files; bezdekIris.data, index, iris.data, and iris.names. The iris.data file contained all required measurements and species for each, and it was this file that was added to the local repository using the 'git add .', 'git commit', and 'git push' commands.\n",
    "\n",
    "Iris data set source: https://archive.ics.uci.edu/ml/datasets/iris"
   ]
  },
  {
   "cell_type": "markdown",
   "metadata": {},
   "source": [
    "### Task 3.1: Output Summary Text file."
   ]
  },
  {
   "cell_type": "markdown",
   "metadata": {},
   "source": [
    "To create a summary file, the data firstly needed to be read from the CSV format in the iris.data file using;\n",
    "\n",
    "```\n",
    "data = pd.read_csv(FILENAME, header=None)\n",
    "```\n",
    "The data is now in pandas dataframe format, which allows for the below code be used and create a overview.\n",
    "\n",
    "```\n",
    "stats = data.describe()\n",
    "```\n",
    "This 'describe' code calculates details for each variable; the count, mean, min and max measurements, standard deviation, and quartiles, which is then written to a new file called summary.txt.\n",
    "\n",
    "In addition to this, to provide a visually clearer table of measurements in the same file, the dataframe is converted into a string with the below code, and written to the file.\n",
    "```\n",
    "n.write(stats.to_string())\n",
    "```\n",
    "Source for converting to string: https://www.geeksforgeeks.org/python-pandas-dataframe-to_string/"
   ]
  },
  {
   "cell_type": "markdown",
   "metadata": {},
   "source": [
    "### Task 3.2: Save Histogram of Each Variable"
   ]
  },
  {
   "cell_type": "markdown",
   "metadata": {},
   "source": [
    "To create histograms for each of the 4 variables, rather than repeating the code each time and only adjusting for the different variables, a function was created to simplify the code.  \n",
    "Initially the function was written in it simplest form to create a histogram of one variable by specifying the variable for 'x'. Given there are 3 differnt species, seaborn was used to allow for modification of the plot.  \n",
    "Seaborn source: https://seaborn.pydata.org/generated/seaborn.histplot.html\n",
    "```\n",
    "hue = 'class'\n",
    "```\n",
    "This ensured that each species (or class) of iris is a different colour, making the plot visibly clearer.\n",
    "```\n",
    "bins = 20\n",
    "```\n",
    "This set the number of bins, or columns, which are plotted. this requires adjustment to get a correct figure.\n",
    "\n",
    "With the code functioning, it was then expanded to factor in the 4 different variables. This was achieved by specifying 'x' as 'variable' and creating a list of the variables, titled 'variables'. In addition to this, adding 'for variable in variables:' to the function, means that the function runs for each item listed in 'variables'"
   ]
  },
  {
   "cell_type": "markdown",
   "metadata": {},
   "source": [
    "### Task 3.3: Create Scatter Plot for Each Pair of Variables"
   ]
  },
  {
   "cell_type": "markdown",
   "metadata": {},
   "source": [
    "README file text formatting source:\n",
    "\n",
    "[https://docs.github.com/en/get-started/writing-on-github/getting-started-with-writing-and-formatting-on-github/basic-writing-and-formatting-syntax]"
   ]
  },
  {
   "cell_type": "markdown",
   "metadata": {},
   "source": [
    "# End"
   ]
  }
 ],
 "metadata": {
  "kernelspec": {
   "display_name": "Python 3 (ipykernel)",
   "language": "python",
   "name": "python3"
  },
  "language_info": {
   "codemirror_mode": {
    "name": "ipython",
    "version": 3
   },
   "file_extension": ".py",
   "mimetype": "text/x-python",
   "name": "python",
   "nbconvert_exporter": "python",
   "pygments_lexer": "ipython3",
   "version": "3.12.7"
  }
 },
 "nbformat": 4,
 "nbformat_minor": 4
}
